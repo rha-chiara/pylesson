{
 "cells": [
  {
   "cell_type": "markdown",
   "metadata": {
    "id": "E_P9aNmInZpA"
   },
   "source": [
    "# はじめの一歩\n",
    "さまざまな変数をassignしてみます。（代入というとどうしても数学的なイメージがついてしまうので、以降は代入のことを「アサイン」と言います。）\n",
    "\n",
    "変数名の命名には次のような決まりがあります。\n",
    "- 大文字小文字のアルファベットと数字、アンダースコアが使える\n",
    "- 先頭（一文字目）に数字は使えない\n",
    "- 先頭にアンダースコアをつけると特殊な意味を持つ場合があるので避ける\n",
    "- 予約語（特殊な機能を持つ単語）と同じ変数名は使えない\n",
    "\n",
    "なお、Pythonでは次の単語が予約語として使われています（変数名にはできません）。  \n",
    "and as assert break class continue def del elif else except exec finally for from global if import in is lambda not or pass print raise return try while with yield\n",
    "\n",
    "変数名を命名するときは、自分の中で一定の規則を設けることをおすすめします。\n",
    "\n",
    "一般的によく使われる規則には次のようなものがあります。\n",
    "\n",
    "名称 | 方法 | 例\n",
    "--- | --- | ---\n",
    "パスカルケース（アッパーキャメルケース） | 単語をつなげた時に、最初の一文字と各単語の最初の文字を大文字にする | FooBar\n",
    "キャメルケース（ローワーキャメルケース）  | 最初の一文字は小文字ではじめ、単語をつなげた時に各単語の最初の文字を大文字にする | fooBar\n",
    "スネークケース | 単語をつなげた時に、全部小文字で書き、単語と単語の間をアンダースコア _ でつなげる | foo_bar\n",
    "\n",
    "\n",
    "それでは、以下のプログラムを実行してみましょう。\n",
    "\n",
    "プログラムを実行するときは、実行したいコードセルの左側に出る矢印ボタン（再生マーク）を押してください。\n",
    "\n",
    "ちなみに、#マークの後に書かれる文字は「コメント」と呼ばれるもので、プログラム上処理されません。人間にとって読みやすいプログラムになるよう、補足的に書かれるものです。自分でプログラムを書くときは意識的に説明を書くようにしましょう。"
   ]
  },
  {
   "cell_type": "code",
   "execution_count": null,
   "metadata": {
    "id": "B9NQ9RiRlGUL"
   },
   "outputs": [],
   "source": [
    "# まずはお手本。\n",
    "\n",
    "# xに整数10をアサイン\n",
    "x = 10\n",
    "# mojiに文字列こんにちはをアサイン\n",
    "moji = \"こんにちは\"\n",
    "# fibonacciに複数の数をアサイン\n",
    "fibonacci = [0, 1, 1, 2, 3, 5, 8, 13, 21, 34, 55, 89]\n",
    "# starsに複数の文字列をアサイン\n",
    "stars = [\"Deneb\", \"Altair\", \"Vega\"]\n",
    "\n",
    "# すべて出力結果として表示\n",
    "print(x)\n",
    "print(moji)\n",
    "print(fibonacci)\n",
    "print(stars)"
   ]
  },
  {
   "cell_type": "markdown",
   "metadata": {
    "id": "79mAv1Y8qzDT"
   },
   "source": [
    "アサインするときに、変数をダブルクオーテーション\"\"で囲っているものと囲っていないものがあるのに気が付きましたか？\n",
    "\n",
    "**文字列をアサインするときには、ダブルクオーテーションかシングルクオーテーション''で囲む**決まりになっています。たとえ数字であっても、クオーテーションで囲ってしまったら、文字列として認識されてしまいます。"
   ]
  },
  {
   "cell_type": "code",
   "execution_count": null,
   "metadata": {
    "id": "_fawT7f0rOwF"
   },
   "outputs": [],
   "source": [
    "# numは整数（integer）としてアサインされる\n",
    "num = 123\n",
    "# numMojiは文字列（string）としてアサインされる\n",
    "numMoji = \"123\"\n",
    "\n",
    "# type(変数名)を使うと、アサインされた変数がどのような形のデータか分かる\n",
    "print(type(num))\n",
    "print(type(numMoji))"
   ]
  },
  {
   "cell_type": "markdown",
   "metadata": {
    "id": "JkGX5uYFsIQs"
   },
   "source": [
    "それでは、自分の手で変数をアサインしてみましょう。\n",
    "\n",
    "最後にprint(変数名)と書いておくと、出力結果にアサインされた変数が表示されます。"
   ]
  },
  {
   "cell_type": "code",
   "execution_count": null,
   "metadata": {
    "id": "Q7z8MNIgsD8D"
   },
   "outputs": [],
   "source": [
    "# 好きな変数を好きな変数名でアサインしてみましょう\n",
    "\n",
    "\n"
   ]
  },
  {
   "cell_type": "markdown",
   "metadata": {
    "id": "kz-IIL9EuHDg"
   },
   "source": [
    "# リストの要素の抜き出し\n",
    "先ほどアサインした変数の中に、複数の変数をひとまとめにしたものがありました。これは「リスト」と呼ばれる形のデータです。\n",
    "\n",
    "リストの中から選んで抜き出したい場合、次のように記述すると選び出すことができます。"
   ]
  },
  {
   "cell_type": "code",
   "execution_count": null,
   "metadata": {
    "id": "o5eTJ8Q5CAuC"
   },
   "outputs": [],
   "source": [
    "apostle = [\"Petrus\", \"Andreas\", \"Jacobus\", \"Johannes\", \"Philippe\", \"Bartholomew\", \"Thomas\", \"Matthaeus\", \"Simon\", \"Jacobus\", \"Judas\", \"Judas Iscariot\", \"Matthias\"]\n",
    "\n",
    "# 何番目の要素を抜き出したいか決まっているとき\n",
    "# 先頭は「0番目」とカウントする\n",
    "print(apostle[2])  # 先頭から3番目\n",
    "print(apostle[5])  # 先頭から6番目\n",
    "\n",
    "# 後ろから数えることも可能\n",
    "print(apostle[-1])  # 一番後ろは「-1番目」\n",
    "print(apostle[-3])  # 後ろから3番目"
   ]
  },
  {
   "cell_type": "markdown",
   "metadata": {
    "id": "f36xeYxfHlIB"
   },
   "source": [
    "リストの中身を検索したいのであれば、次のような方法があります。"
   ]
  },
  {
   "cell_type": "code",
   "execution_count": null,
   "metadata": {
    "id": "iDQliB6sHpEC"
   },
   "outputs": [],
   "source": [
    "# ある要素がリストの中にあるかどうかを確認する\n",
    "print(\"Thomas\" in apostle)  # あればTrue、なければFalseが返ってくる\n",
    "\n",
    "# ある要素がリストの何番目にあるのかを確認するには「（変数名）.index(検索ワード)」とする\n",
    "print(apostle.index(\"Judas\"))\n",
    "\n",
    "# ある要素がリストにいくつ含まれているのか調べるには「（変数名）.count（検索ワード）」とする\n",
    "print(apostle.count(\"Jacobus\"))"
   ]
  },
  {
   "cell_type": "markdown",
   "metadata": {
    "id": "2xwVoYnVI8LK"
   },
   "source": [
    "それでは、次のセルのコードを完成させましょう。"
   ]
  },
  {
   "cell_type": "code",
   "execution_count": null,
   "metadata": {
    "id": "5ecuXtKCJFFL"
   },
   "outputs": [],
   "source": [
    "# リストの中に\"Jesus\"があるか確認する\n",
    "print()\n",
    "\n",
    "# リストの中の\"Simon\"がリストの何番目にあるのかを確認し、そのひとつ後ろの要素を1つだけ抽出する\n",
    "# ヒント：１行で書けます！\n",
    "print()\n",
    "\n"
   ]
  },
  {
   "cell_type": "markdown",
   "metadata": {
    "id": "vA29lAInLQEY"
   },
   "source": [
    "# 変数の更新\n",
    "一度アサインした変数であっても、違うデータにアサインし直すことが可能です。"
   ]
  },
  {
   "cell_type": "code",
   "execution_count": null,
   "metadata": {
    "id": "paobd_PYLcHO"
   },
   "outputs": [],
   "source": [
    "# まずxに１をアサイン\n",
    "x = 1\n",
    "print(x)\n",
    "\n",
    "# xに2をアサインしなおす\n",
    "x = 2\n",
    "print(x)"
   ]
  },
  {
   "cell_type": "code",
   "execution_count": null,
   "metadata": {
    "id": "aSuhc5OvLqwr"
   },
   "outputs": [],
   "source": [
    "x = 1\n",
    "print(x)\n",
    "\n",
    "# 既にアサインされているデータを使って新しいデータに更新する\n",
    "x = x + 1  # x（１がアサインされている）に１を足したデータをxにアサインする（＝２になる）\n",
    "print(x)"
   ]
  },
  {
   "cell_type": "markdown",
   "metadata": {
    "id": "93-DDJCWPVlK"
   },
   "source": [
    "変数名を決めるときは、後でうっかり上書きしてしまわないようにわかりやすい名前にしましょう。"
   ]
  }
 ],
 "metadata": {
  "colab": {
   "authorship_tag": "ABX9TyOIQMjoyiK0XHmTYDq6XI7D",
   "collapsed_sections": [],
   "name": "Ex01.ipynb",
   "provenance": []
  },
  "kernelspec": {
   "display_name": "Python 3",
   "language": "python",
   "name": "python3"
  },
  "language_info": {
   "codemirror_mode": {
    "name": "ipython",
    "version": 3
   },
   "file_extension": ".py",
   "mimetype": "text/x-python",
   "name": "python",
   "nbconvert_exporter": "python",
   "pygments_lexer": "ipython3",
   "version": "3.7.3"
  }
 },
 "nbformat": 4,
 "nbformat_minor": 1
}
