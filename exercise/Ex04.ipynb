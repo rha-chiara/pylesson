{
 "cells": [
  {
   "cell_type": "markdown",
   "metadata": {},
   "source": [
    "# ライブラリの活用\n",
    "## datetime\n",
    "まず、日付・時刻の取り扱いを容易にするライブラリであるdatetimeを使用してみましょう。もしライブラリが使えなかったら…とても大変そうですよね。"
   ]
  },
  {
   "cell_type": "code",
   "execution_count": null,
   "metadata": {},
   "outputs": [],
   "source": [
    "# ライブラリのインポート\n",
    "import datetime as dt\n",
    "\n",
    "# 今日の日付を取得\n",
    "today = dt.date.today()  #datetimeライブラリの中のdatetime.now()で定義されている処理を行う\n",
    "print(today)\n",
    "print(type(today))\n",
    "\n",
    "# 一日前の日付にする\n",
    "yesterday = today - dt.timedelta(days=1)  # timedeltaを使うと日付・時刻の加算・減算ができる\n",
    "print(yesterday)\n",
    "\n",
    "# 今日の日付を文字列に変換\n",
    "today_moji = today.strftime(\"%Y/%m/%d\")\n",
    "print(today_moji)\n",
    "print(type(today_moji))\n",
    "\n",
    "# 今日の曜日を出力\n",
    "print(today.strftime(\"%A\"))"
   ]
  },
  {
   "cell_type": "markdown",
   "metadata": {},
   "source": [
    "上のコードの中で、変数の後ろに「.strftime()」と書かれているものがあります。これは「メソッド」と呼ばれる機能を呼び出しています。\n",
    "\n",
    "メソッドとは、変数の種類（データタイプ）によって呼び出すことのできる機能です。（変数のタイプに固有な関数のようなもの、といった方が直感的でしょうか？）  \n",
    "```\n",
    "today_moji = today.strftime(\"%Y/%m/%d\")\n",
    "```\n",
    "を例にすると、todayという変数はdatetimeライブラリの機能を使って取得した、今日の日付のデータでした。todayという処理はdatetimeによって定められている処理であり、type(today)の実行結果から見て取れる通り、その結果はdatetimeというタイプの変数になっています。一方、datetimeライブラリの中では、関数とは別にdatetimeタイプの変数について固有のメソッドが定められています。これにより、「変数.メソッド名」とすることでメソッドを実行することが可能になります。\n",
    "\n",
    "なぜ関数ではなくメソッドで実装するかというと、難しい話は色々あるのですが、すごく簡単に言ってしまえばプログラムを書きやすく・読みやすくするためです。  \n",
    "ここで挙げている例は簡単なものばかりなのであまりその実感はわきませんが、大規模なプログラムを（特に複数人で）作っていく場合、ひたすら関数を定義していくだけだと、個々の関数がどのようなデータを処理しようとしているものなのかが分かりづらくなってしまいます。これによってうっかり意図しない変数を関数に処理させようとしてしまったりして、エラー処理に追われてプログラミングの効率が下がったり、メンテナンス性が悪くなってしまったりしてしまいます。  \n",
    "変数のタイプによって処理させたいことが決まっているのであれば、メソッドとして定義しておいたほうがそのような間違いは減りますし、どのような処理をしようとしているのかパッと見てわかりやすくなります。\n",
    "\n",
    "ただ、ここでは自分でメソッドを定義する方法まで取り扱いませんので、使い方さえマスターできればあとは「こういうものがあるんだなあ…」くらいの気持ちで結構です。みなさんがプログラムを書くときも、関数を定義するだけで間に合うかと思います。"
   ]
  },
  {
   "cell_type": "markdown",
   "metadata": {},
   "source": [
    "## pandas\n",
    "統計・データ可視化に特化しています。"
   ]
  },
  {
   "cell_type": "code",
   "execution_count": null,
   "metadata": {},
   "outputs": [],
   "source": [
    "# インポート\n",
    "import pandas as pd\n",
    "\n",
    "# CSVファイルを読み込む（初めて読み込むときは少し時間がかかります）\n",
    "df = pd.read_csv(\"https://raw.githubusercontent.com/rha-chiara/pylesson/master/starbucks.csv\")\n",
    "df"
   ]
  },
  {
   "cell_type": "code",
   "execution_count": null,
   "metadata": {},
   "outputs": [],
   "source": [
    "# 統計量を表示する\n",
    "df.describe()"
   ]
  },
  {
   "cell_type": "markdown",
   "metadata": {},
   "source": [
    "各統計量の意味は次の通りです。\n",
    "- count:データの個数\n",
    "- mean:平均値\n",
    "- std:標準偏差\n",
    "- min:最小値\n",
    "- 25%:小さい順に並べたときに小さい方から数えて1/4番目に当たる値\n",
    "- 50%:小さい順に並べたときに小さい方から数えて1/2番目に当たる値\n",
    "- 75%:小さい順に並べたときに小さい方から数えて3/4番目に当たる値\n",
    "- max:最大値"
   ]
  },
  {
   "cell_type": "code",
   "execution_count": null,
   "metadata": {},
   "outputs": [],
   "source": [
    "#jupyter notebookでグラフを表示するための記述\n",
    "%matplotlib inline\n",
    "\n",
    "df.plot(kind=\"bar\")"
   ]
  },
  {
   "cell_type": "markdown",
   "metadata": {},
   "source": [
    "## pyautogui\n",
    "残念ながらGoogle Colab上では動かせないので、ArcGIS上に演習を用意しました。別途お問い合わせください。"
   ]
  }
 ],
 "metadata": {
  "kernelspec": {
   "display_name": "Python 3",
   "language": "python",
   "name": "python3"
  },
  "language_info": {
   "codemirror_mode": {
    "name": "ipython",
    "version": 3
   },
   "file_extension": ".py",
   "mimetype": "text/x-python",
   "name": "python",
   "nbconvert_exporter": "python",
   "pygments_lexer": "ipython3",
   "version": "3.7.3"
  }
 },
 "nbformat": 4,
 "nbformat_minor": 2
}
