{
 "cells": [
  {
   "cell_type": "markdown",
   "metadata": {},
   "source": [
    "# 繰り返し処理と条件分岐を駆使する\n",
    "繰り返し処理と条件分岐は、書き方さえ覚えてしまえばあとは「どのように使うか」を考えるだけですので、今回の演習ではいきなり使ってみるところから始めましょう。\n",
    "\n",
    "お題をいくつか用意しましたので、できそうなものから自分でプログラムを書いてみてください。解答案は最後にまとめて置いておきます。  \n",
    "難しければ、解答案を横目で見ながら自分の手でも入力して、一行ごとの役割を確認しながら実行して動作を確かめるのでもいいですよ。"
   ]
  },
  {
   "cell_type": "markdown",
   "metadata": {},
   "source": [
    "---\n",
    "# お題１：数当てゲーム\n",
    "プログラムがランダムな数（正解値）を1つ決めます。ユーザーが適当な数を入れると、正解値よりも大きいか小さいか、正解であるかが出力されます。これを繰り返すことで、正解値を探すゲームです。\n",
    "\n",
    "出来上がったら実行してみましょう。"
   ]
  },
  {
   "cell_type": "code",
   "execution_count": null,
   "metadata": {},
   "outputs": [],
   "source": [
    "#1～100の乱数を発生させる\n",
    "import random\n",
    "n = random.randint(1, 100)\n",
    "\n",
    "# ユーザーが入力する数字を変数名mにアサインする（初期値を0とする）\n",
    "m = 0\n",
    "\n",
    "#答えnとユーザの入力した値mが違っている間はループ\n",
    "#最初はm=0なので確実にm!=nとなりループに入れる\n",
    "while m != n:\n",
    "    m = int(input(\"1から100までの整数を半角英数で入力してください：\"))  #ユーザーからの入力を受け付けるにはinputを使う  #intは整数であることの明示\n",
    "    # ここから先を完成させてください\n",
    "    if :\n",
    "        \n",
    "    else:  #正解のとき\n",
    "        print(\"正解！\")\n",
    "        pass  # ループを抜けるにはpassを使う"
   ]
  },
  {
   "cell_type": "markdown",
   "metadata": {},
   "source": [
    "---\n",
    "# お題２：素数の判定\n",
    "素数とは「１と自分の数でしか割り切れない数字」のことです。ある数Nが素数かどうかを調べるためには、2からN-1までの数字でNを順番に割ってみて、割り切れる数字があったかを調べればいいですね。\n",
    "\n",
    "それでは、「ユーザーが入力した数字に対して素数かどうかを調べるプログラム」を作ってみましょう。  \n",
    "今までに出てきた機能を駆使すれば自力で完成できますよ。"
   ]
  },
  {
   "cell_type": "code",
   "execution_count": null,
   "metadata": {},
   "outputs": [],
   "source": [
    "# はじめから自力でやってみましょう！\n"
   ]
  },
  {
   "cell_type": "markdown",
   "metadata": {},
   "source": [
    "---\n",
    "# 解答案\n",
    "あくまで一例です。動けばそれでヨシ。"
   ]
  },
  {
   "cell_type": "code",
   "execution_count": null,
   "metadata": {},
   "outputs": [],
   "source": [
    "# お題１\n",
    "\n",
    "#1～100の乱数を発生させる\n",
    "import random\n",
    "n = random.randint(1, 100)\n",
    "\n",
    "# ユーザーが入力する数字を変数名mにアサインする（初期値を0とする）\n",
    "m = 0\n",
    "\n",
    "#答えnとユーザの入力した値mが違っている間はループ\n",
    "#最初はm=0で確実にm!=nとなるのでループに入れる\n",
    "while m != n:\n",
    "    m = int(input(\"1から100までの整数を半角英数で入力してください：\"))  #ユーザーからの入力を受け付けるにはinputを使う  #intは整数であることの明示\n",
    "    # ここから先を完成させてください\n",
    "    if m > n:\n",
    "        print(\"正解よりも大きいです\")\n",
    "    elif m < n:\n",
    "        print(\"正解よりも小さいです\")\n",
    "    else:  #正解のとき\n",
    "        print(\"正解！\")\n",
    "        pass  # ループを抜けるにはpassを使う"
   ]
  },
  {
   "cell_type": "code",
   "execution_count": null,
   "metadata": {},
   "outputs": [],
   "source": [
    "# お題２\n",
    "\n",
    "# キーボードから数字（整数）の入力を受け付けて、変数名numberにアサイン\n",
    "number = int(input(\"素数を判定したい２以上の自然数：\"))\n",
    "\n",
    "# 割り切れた数を数えるためのカウンターを用意（初期値は０）\n",
    "counter = 0\n",
    "\n",
    "# 2〜number-1までの数で割り算を繰り返す\n",
    "for i in range(2, number):\n",
    "    if number % i == 0:\n",
    "        counter = counter + 1  #割り切れたのでcounterに１を追加\n",
    "\n",
    "# 最終的に割り切れた回数を調べる\n",
    "if counter > 0:\n",
    "    print(f\"{number}は素数ではありません\")\n",
    "else:\n",
    "    print(f\"{number}は素数です\")"
   ]
  }
 ],
 "metadata": {
  "kernelspec": {
   "display_name": "Python 3",
   "language": "python",
   "name": "python3"
  },
  "language_info": {
   "codemirror_mode": {
    "name": "ipython",
    "version": 3
   },
   "file_extension": ".py",
   "mimetype": "text/x-python",
   "name": "python",
   "nbconvert_exporter": "python",
   "pygments_lexer": "ipython3",
   "version": "3.7.3"
  }
 },
 "nbformat": 4,
 "nbformat_minor": 2
}
